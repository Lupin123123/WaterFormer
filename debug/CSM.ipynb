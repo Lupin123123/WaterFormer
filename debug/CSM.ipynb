{
 "cells": [
  {
   "cell_type": "code",
   "execution_count": 333,
   "metadata": {},
   "outputs": [],
   "source": [
    "import torch\n",
    "from torch import nn, einsum\n",
    "import torch.nn.functional as F\n",
    "import torch.utils.checkpoint as checkpoint\n",
    "import numpy as np\n",
    "from typing import Optional\n",
    "\n",
    "from einops import rearrange, repeat\n",
    "from einops.layers.torch import Rearrange"
   ]
  },
  {
   "cell_type": "code",
   "execution_count": 334,
   "metadata": {},
   "outputs": [],
   "source": [
    "class PatchEmbed(nn.Module):\n",
    "    def __init__(self, patch_size=4, in_c=3, embed_dim=96, norm_layer=None):\n",
    "        super().__init__()\n",
    "        patch_size = (patch_size, patch_size)\n",
    "        self.patch_size = patch_size\n",
    "        self.in_chans = in_c\n",
    "        self.embed_dim = embed_dim\n",
    "        self.proj = nn.Conv2d(in_c, embed_dim, kernel_size=patch_size, stride=patch_size)\n",
    "        self.norm = norm_layer(embed_dim) if norm_layer else nn.Identity()\n",
    "\n",
    "    def forward(self, x):\n",
    "        _, _, H, W = x.shape\n",
    "        pad_input = (H % self.patch_size[0] != 0) or (W % self.patch_size[1] != 0)\n",
    "        if pad_input:\n",
    "            x = F.pad(x, (0, self.patch_size[1] - W % self.patch_size[1],\n",
    "                          0, self.patch_size[0] - H % self.patch_size[0], 0, 0))\n",
    "\n",
    "        x = self.proj(x)\n",
    "        _, _, H, W = x.shape\n",
    "\n",
    "        x = x.flatten(2).transpose(1, 2)\n",
    "        x = self.norm(x)\n",
    "        return x, H, W"
   ]
  },
  {
   "cell_type": "code",
   "execution_count": 335,
   "metadata": {},
   "outputs": [],
   "source": [
    "class Attention(nn.Module):\n",
    "    def __init__(self, dim, heads = 8, dim_head = 64, dropout = 0.):\n",
    "        super().__init__()\n",
    "        inner_dim = dim_head *  heads\n",
    "        project_out = not (heads == 1 and dim_head == dim)\n",
    "\n",
    "        self.heads = heads\n",
    "        self.scale = dim_head ** -0.5\n",
    "\n",
    "        self.attend = nn.Softmax(dim = -1)\n",
    "        self.to_qkv = nn.Linear(dim, inner_dim * 3, bias = False)\n",
    "\n",
    "        self.to_out = nn.Sequential(\n",
    "            nn.Linear(inner_dim, dim),\n",
    "            nn.Dropout(dropout)\n",
    "        ) if project_out else nn.Identity()\n",
    "\n",
    "    def forward(self, x):\n",
    "        b, n, _, h = *x.shape, self.heads\n",
    "        tmp = self.to_qkv(x)\n",
    "        # print(tmp.shape)\n",
    "        qkv = self.to_qkv(x).chunk(3, dim=-1)\n",
    "        # print(qkv[0].shape)\n",
    "        # print(qkv[1].shape)\n",
    "        # print(qkv[2].shape)\n",
    "        q, k, v = map(lambda t: rearrange(t, 'b n (h d) -> b h n d', h = h), qkv)\n",
    "        # print(q.shape)\n",
    "        # print(k.shape)\n",
    "        dots = einsum('b h i d, b h j d -> b h i j', q, k) * self.scale\n",
    "        # print(dots.shape)\n",
    "        attn = self.attend(dots)\n",
    "        # print(attn.shape)\n",
    "        out = einsum('b h i j, b h j d -> b h i d', attn, v)\n",
    "        # print(out.shape)\n",
    "        out = rearrange(out, 'b h n d -> b n (h d)')\n",
    "        # print(out.shape)\n",
    "        return self.to_out(out)"
   ]
  },
  {
   "cell_type": "code",
   "execution_count": 336,
   "metadata": {},
   "outputs": [],
   "source": [
    "class CSM_Attention(nn.Module):\n",
    "    def __init__(self) -> None:\n",
    "        super(CSM_Attention, self).__init__()\n",
    "        self.Attention = Attention(dim=96)\n",
    "\n",
    "    def forward(self, x):\n",
    "        y = self.Attention(x)\n",
    "        return y"
   ]
  },
  {
   "cell_type": "code",
   "execution_count": 337,
   "metadata": {},
   "outputs": [],
   "source": [
    "class CSM(nn.Module):\n",
    "    def __init__(self) -> None:\n",
    "        super(CSM, self).__init__()\n",
    "        self.patch_emb1 = PatchEmbed(in_c=96)\n",
    "        self.patch_emb2 = PatchEmbed(in_c=192)\n",
    "        self.patch_emb3 = PatchEmbed(in_c=384)\n",
    "        self.CSM = CSM_Attention()\n",
    "\n",
    "    def forward(self, x1, x2, x3):\n",
    "\n",
    "        b1, h1w1, d1 = x1.shape\n",
    "        b2, h2w2, d2 = x2.shape\n",
    "        b3, h3w3, d3 = x3.shape\n",
    "\n",
    "        h1 = w1 = int(np.sqrt(h1w1))\n",
    "        h2 = w2 = int(np.sqrt(h2w2))\n",
    "        h3 = w3 = int(np.sqrt(h3w3))   \n",
    "\n",
    "        xx1 = x1.reshape(b1, d1, h1, w1)\n",
    "        xx2 = x2.reshape(b2, d2, h2, w2)\n",
    "        xx3 = x3.reshape(b3, d3, h3, w3)\n",
    "\n",
    "        xx1, _, _ = self.patch_emb1(xx1)\n",
    "        xx2, _, _= self.patch_emb2(xx2)\n",
    "        xx3, _, _= self.patch_emb3(xx3)\n",
    "\n",
    "\n",
    "        tmp = torch.cat([xx1, xx2, xx3], dim=1)\n",
    "        out_csm = self.CSM(tmp)\n",
    " \n",
    "        out1 = nn.Linear(in_features=out_csm.shape[-1], out_features=d1, bias=True)(out_csm)\n",
    "        out2 = nn.Linear(in_features=out_csm.shape[-1], out_features=d2, bias=True)(out_csm)\n",
    "        out3 = nn.Linear(in_features=out_csm.shape[-1], out_features=d3, bias=True)(out_csm)       \n",
    "\n",
    "        out1 = nn.Linear(in_features=out_csm.shape[-2], out_features=h1w1, bias=True)(out1.transpose(-1, -2)).transpose(-1, -2)\n",
    "        out2 = nn.Linear(in_features=out_csm.shape[-2], out_features=h2w2, bias=True)(out2.transpose(-1, -2)).transpose(-1, -2)\n",
    "        out3 = nn.Linear(in_features=out_csm.shape[-2], out_features=h3w3, bias=True)(out3.transpose(-1, -2)).transpose(-1, -2)\n",
    "\n",
    "        print(out1.shape)\n",
    "        print(out2.shape)\n",
    "        print(out3.shape)\n",
    "        \n",
    "        return out1, out2, out3"
   ]
  },
  {
   "cell_type": "code",
   "execution_count": 338,
   "metadata": {},
   "outputs": [
    {
     "name": "stdout",
     "output_type": "stream",
     "text": [
      "torch.Size([1, 4096, 96])\n",
      "torch.Size([1, 1024, 192])\n",
      "torch.Size([1, 256, 384])\n"
     ]
    }
   ],
   "source": [
    "x1 = torch.rand(1, 4096, 96)\n",
    "x2 = torch.rand(1, 1024, 192)\n",
    "x3 = torch.rand(1, 256, 384)\n",
    "model = CSM()\n",
    "y = model(x1, x2, x3)"
   ]
  }
 ],
 "metadata": {
  "kernelspec": {
   "display_name": "base",
   "language": "python",
   "name": "python3"
  },
  "language_info": {
   "codemirror_mode": {
    "name": "ipython",
    "version": 3
   },
   "file_extension": ".py",
   "mimetype": "text/x-python",
   "name": "python",
   "nbconvert_exporter": "python",
   "pygments_lexer": "ipython3",
   "version": "3.9.12"
  },
  "orig_nbformat": 4,
  "vscode": {
   "interpreter": {
    "hash": "5179d32cf6ec497baf3f8a3ef987cc77c5d2dc691fdde20a56316522f61a7323"
   }
  }
 },
 "nbformat": 4,
 "nbformat_minor": 2
}
